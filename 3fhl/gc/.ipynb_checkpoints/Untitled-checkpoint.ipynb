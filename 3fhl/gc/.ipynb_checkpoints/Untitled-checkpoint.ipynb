{
 "cells": [
  {
   "cell_type": "markdown",
   "metadata": {},
   "source": [
    "# Compare Gammapy against Fermi-ST\n",
    "\n",
    "This notebooks implements a cross-check of Gammapy against the Fermi-ST, by computing predicted counts cubes from the\n",
    "Galactic and isotropic diffuse background models.\n",
    "\n",
    "The Fermi-ST reference data was produced using the script ``."
   ]
  },
  {
   "cell_type": "code",
   "execution_count": 1,
   "metadata": {},
   "outputs": [],
   "source": [
    "%matplotlib inline\n",
    "import numpy as np"
   ]
  },
  {
   "cell_type": "code",
   "execution_count": 2,
   "metadata": {},
   "outputs": [],
   "source": [
    "from gammapy.maps import Map, MapAxis, WcsGeom\n",
    "from gammapy.cube import MapEvaluator, PSFKernel\n",
    "from gammapy.cube.models import SkyDiffuseCube, SkyModel\n",
    "from gammapy.image.models import SkyDiffuseConstant\n",
    "from gammapy.spectrum.models import TableModel\n",
    "from gammapy.irf import EnergyDependentTablePSF\n",
    "from astropy.io import fits\n",
    "from astropy.coordinates import SkyCoord\n",
    "from astropy import units as u"
   ]
  },
  {
   "cell_type": "code",
   "execution_count": 3,
   "metadata": {},
   "outputs": [
    {
     "name": "stdout",
     "output_type": "stream",
     "text": [
      "WcsNDMap\n",
      "\n",
      "\tgeom  : WcsGeom \n",
      " \taxes  : lon, lat, energy\n",
      "\tshape : (200, 100, 4)\n",
      "\tndim  : 3\n",
      "\tunit  : '' \n",
      "\tdtype : >i4 \n",
      "\n"
     ]
    }
   ],
   "source": [
    "filename = 'fermi-3fhl-gc-counts.fits'\n",
    "counts_fermi = Map.read(filename)\n",
    "print(counts_fermi)"
   ]
  },
  {
   "cell_type": "code",
   "execution_count": 4,
   "metadata": {},
   "outputs": [
    {
     "name": "stdout",
     "output_type": "stream",
     "text": [
      "WcsNDMap\n",
      "\n",
      "\tgeom  : WcsGeom \n",
      " \taxes  : lon, lat, energy\n",
      "\tshape : (200, 100, 4)\n",
      "\tndim  : 3\n",
      "\tunit  : '' \n",
      "\tdtype : >f4 \n",
      "\n"
     ]
    }
   ],
   "source": [
    "filename = 'fermi-3fhl-gc-background-npred.fits'\n",
    "npred_fermi = Map.read(filename)\n",
    "print(npred_fermi)"
   ]
  },
  {
   "cell_type": "code",
   "execution_count": 5,
   "metadata": {},
   "outputs": [
    {
     "name": "stdout",
     "output_type": "stream",
     "text": [
      "WcsNDMap\n",
      "\n",
      "\tgeom  : WcsGeom \n",
      " \taxes  : lon, lat, energy\n",
      "\tshape : (200, 100, 5)\n",
      "\tndim  : 3\n",
      "\tunit  : 'cm2 s' \n",
      "\tdtype : >f4 \n",
      "\n"
     ]
    }
   ],
   "source": [
    "filename = 'fermi-3fhl-gc-exposure.fits'\n",
    "exposure_fermi = Map.read(filename)\n",
    "exposure_fermi.geom.axes[0].unit = \"MeV\"\n",
    "exposure_fermi.unit = 'cm2 s'\n",
    "print(exposure_fermi)"
   ]
  },
  {
   "cell_type": "markdown",
   "metadata": {},
   "source": [
    "## Exposure map"
   ]
  },
  {
   "cell_type": "code",
   "execution_count": 39,
   "metadata": {},
   "outputs": [],
   "source": [
    "exposure_hpx = Map.read('$GAMMAPY_FERMI_LAT_DATA/3fhl/fermi_3fhl_exposure_cube_hpx.fits.gz')\n",
    "exposure_hpx.geom.axes[0].unit = 'MeV'\n",
    "geom = WcsGeom.create(binsz=0.05, width=(10, 5), axes=[exposure_hpx.geom.axes[0]])\n",
    "exposure_allsky = exposure_hpx.reproject(geom)"
   ]
  },
  {
   "cell_type": "code",
   "execution_count": 69,
   "metadata": {},
   "outputs": [
    {
     "name": "stderr",
     "output_type": "stream",
     "text": [
      "/home/hfm/adonath/Software/Applications/anaconda3.5/envs/gammapy-dev/lib/python3.6/site-packages/scipy/interpolate/interpolate.py:2514: FutureWarning: Using a non-tuple sequence for multidimensional indexing is deprecated; use `arr[tuple(seq)]` instead of `arr[seq]`. In the future this will be interpreted as an array index, `arr[np.array(seq)]`, which will result either in an error or a different result.\n",
      "  return self.values[idx_res]\n"
     ]
    }
   ],
   "source": [
    "oversampling = 1\n",
    "nbin = oversampling * npred_fermi.geom.axes[0].nbin\n",
    "\n",
    "energy_axis = MapAxis.from_bounds(1, 100, nbin=nbin, unit='GeV', interp='log', name='energy')\n",
    "exposure = Map.create(binsz=0.05, width=(10, 5), axes=[energy_axis])\n",
    "\n",
    "coords = exposure.geom.get_coord()\n",
    "exposure.data = exposure_allsky.interp_by_coord(coords)\n",
    "exposure.unit = 'cm2 s'"
   ]
  },
  {
   "cell_type": "markdown",
   "metadata": {},
   "source": [
    "## PSF"
   ]
  },
  {
   "cell_type": "code",
   "execution_count": 70,
   "metadata": {},
   "outputs": [],
   "source": [
    "psf = EnergyDependentTablePSF.read('$GAMMAPY_FERMI_LAT_DATA/3fhl/fermi_3fhl_psf_gc.fits.gz')\n",
    "\n",
    "psf_kernel = PSFKernel.from_table_psf(\n",
    "    psf,\n",
    "    exposure.geom,\n",
    "    max_radius='1 deg',\n",
    ")"
   ]
  },
  {
   "cell_type": "markdown",
   "metadata": {},
   "source": [
    "## Background model"
   ]
  },
  {
   "cell_type": "code",
   "execution_count": 71,
   "metadata": {},
   "outputs": [],
   "source": [
    "#position = SkyCoord(0, 0, frame='galactic', unit='deg')\n",
    "#galactic_diffuse_allsky = Map.read('$FERMI_DIFFUSE_DIR/gll_iem_v06.fits')\n",
    "#galactic_diffuse = galactic_diffuse_allsky.cutout(position=position, width=(12, 7))\n",
    "#galactic_diffuse.write('galactic_diffuse.fits')"
   ]
  },
  {
   "cell_type": "code",
   "execution_count": 72,
   "metadata": {},
   "outputs": [],
   "source": [
    "# prepared galactic diffuse\n",
    "galactic_diffuse = SkyDiffuseCube.read('galactic_diffuse.fits')\n",
    "\n",
    "# isotropic diffuse\n",
    "iso_spatial = SkyDiffuseConstant(1)\n",
    "iso_spectral = TableModel.read_fermi_isotropic_model('$FERMI_DIFFUSE_DIR/iso_P8R2_SOURCE_V6_v06.txt')\n",
    "isotropic_diffuse = SkyModel(spatial_model=iso_spatial, spectral_model=iso_spectral)\n",
    "\n",
    "model = galactic_diffuse + isotropic_diffuse"
   ]
  },
  {
   "cell_type": "code",
   "execution_count": 73,
   "metadata": {},
   "outputs": [],
   "source": [
    "evaluator = MapEvaluator(model=model, exposure=exposure, psf=psf_kernel)\n",
    "npred_data = evaluator.compute_npred()"
   ]
  },
  {
   "cell_type": "code",
   "execution_count": 74,
   "metadata": {},
   "outputs": [],
   "source": [
    "npred_gp = Map.from_geom(npred_fermi.geom)\n",
    "#npred_gp.data = npred_data"
   ]
  },
  {
   "cell_type": "code",
   "execution_count": 75,
   "metadata": {},
   "outputs": [],
   "source": [
    "# oversampling\n",
    "data = []\n",
    "\n",
    "for idx in range(0, nbin, oversampling):\n",
    "    image_sum = npred_data[idx:idx + oversampling].sum(axis=0)\n",
    "    data.append(image_sum)\n",
    "\n",
    "npred_gp.data = np.stack(data, axis=0)"
   ]
  },
  {
   "cell_type": "code",
   "execution_count": 76,
   "metadata": {},
   "outputs": [
    {
     "data": {
      "application/vnd.jupyter.widget-view+json": {
       "model_id": "8ad8b36d86804bb19df27013155a5e12",
       "version_major": 2,
       "version_minor": 0
      },
      "text/plain": [
       "interactive(children=(SelectionSlider(continuous_update=False, description='Select energy:', layout=Layout(wid…"
      ]
     },
     "metadata": {},
     "output_type": "display_data"
    }
   ],
   "source": [
    "npred_fermi.plot_interactive(add_cbar=True)"
   ]
  },
  {
   "cell_type": "code",
   "execution_count": 77,
   "metadata": {},
   "outputs": [
    {
     "data": {
      "application/vnd.jupyter.widget-view+json": {
       "model_id": "31010a92c68341bcbbb7dbeed5b1af1e",
       "version_major": 2,
       "version_minor": 0
      },
      "text/plain": [
       "interactive(children=(SelectionSlider(continuous_update=False, description='Select energy:', layout=Layout(wid…"
      ]
     },
     "metadata": {},
     "output_type": "display_data"
    }
   ],
   "source": [
    "npred_gp.plot_interactive(add_cbar=True)"
   ]
  },
  {
   "cell_type": "code",
   "execution_count": 79,
   "metadata": {},
   "outputs": [
    {
     "data": {
      "application/vnd.jupyter.widget-view+json": {
       "model_id": "f91b45129a804a0fb598bdfdc6548a6b",
       "version_major": 2,
       "version_minor": 0
      },
      "text/plain": [
       "interactive(children=(SelectionSlider(continuous_update=False, description='Select energy:', layout=Layout(wid…"
      ]
     },
     "metadata": {},
     "output_type": "display_data"
    }
   ],
   "source": [
    "ratio = Map.from_geom(npred_gp.geom)\n",
    "ratio.data = npred_fermi.data /  npred_gp.data\n",
    "ratio.plot_interactive(add_cbar=True, vmin=0.5, vmax=1.5, cmap='RdBu')"
   ]
  },
  {
   "cell_type": "code",
   "execution_count": 85,
   "metadata": {},
   "outputs": [
    {
     "name": "stdout",
     "output_type": "stream",
     "text": [
      "Fermi npred: 0.3\n"
     ]
    }
   ],
   "source": [
    "print(\"Fermi npred: {:.1f}\".format(npred_fermi.data[-1, 50, 100]))"
   ]
  },
  {
   "cell_type": "code",
   "execution_count": 87,
   "metadata": {},
   "outputs": [
    {
     "name": "stdout",
     "output_type": "stream",
     "text": [
      "Fermi exposure: 3.3e+11\n"
     ]
    }
   ],
   "source": [
    "print(\"Fermi exposure: {:.1e}\".format(exposure_fermi.data[-1, 50, 100]))"
   ]
  },
  {
   "cell_type": "code",
   "execution_count": 83,
   "metadata": {},
   "outputs": [
    {
     "name": "stdout",
     "output_type": "stream",
     "text": [
      "Gammapy npred: 41.0\n"
     ]
    }
   ],
   "source": [
    "print(\"Gammapy npred: {:.1f}\".format(npred_gp.data[0, 50, 100]))"
   ]
  },
  {
   "cell_type": "code",
   "execution_count": 88,
   "metadata": {},
   "outputs": [
    {
     "name": "stdout",
     "output_type": "stream",
     "text": [
      "Gammapy exposure: 3.2e+11\n"
     ]
    }
   ],
   "source": [
    "print(\"Gammapy exposure: {:.1e}\".format(exposure.data[-1, 50, 100]))"
   ]
  },
  {
   "cell_type": "code",
   "execution_count": 89,
   "metadata": {},
   "outputs": [
    {
     "data": {
      "text/plain": [
       "382601.8"
      ]
     },
     "execution_count": 89,
     "metadata": {},
     "output_type": "execute_result"
    }
   ],
   "source": [
    "npred_fermi.data.sum()"
   ]
  },
  {
   "cell_type": "code",
   "execution_count": 90,
   "metadata": {},
   "outputs": [
    {
     "data": {
      "text/plain": [
       "348853.66"
      ]
     },
     "execution_count": 90,
     "metadata": {},
     "output_type": "execute_result"
    }
   ],
   "source": [
    "npred_gp.data.sum()"
   ]
  },
  {
   "cell_type": "code",
   "execution_count": 23,
   "metadata": {},
   "outputs": [
    {
     "name": "stdout",
     "output_type": "stream",
     "text": [
      "[1.00000000e+06 3.16227775e+06 9.99999975e+06 3.16227760e+07\n",
      " 1.00000000e+08]\n"
     ]
    }
   ],
   "source": [
    "print(npred_fermi.geom.axes[0].edges)"
   ]
  },
  {
   "cell_type": "code",
   "execution_count": 26,
   "metadata": {},
   "outputs": [
    {
     "data": {
      "application/vnd.jupyter.widget-view+json": {
       "model_id": "0231b04019f245638d46583042e0578e",
       "version_major": 2,
       "version_minor": 0
      },
      "text/plain": [
       "interactive(children=(SelectionSlider(continuous_update=False, description='Select energy:', layout=Layout(wid…"
      ]
     },
     "metadata": {},
     "output_type": "display_data"
    }
   ],
   "source": [
    "exposure_fermi.plot_interactive(add_cbar=True)"
   ]
  },
  {
   "cell_type": "code",
   "execution_count": 27,
   "metadata": {},
   "outputs": [
    {
     "data": {
      "application/vnd.jupyter.widget-view+json": {
       "model_id": "39042415037f4a549e60b175f37b542c",
       "version_major": 2,
       "version_minor": 0
      },
      "text/plain": [
       "interactive(children=(SelectionSlider(continuous_update=False, description='Select energy:', layout=Layout(wid…"
      ]
     },
     "metadata": {},
     "output_type": "display_data"
    }
   ],
   "source": [
    "exposure.plot_interactive(add_cbar=True)"
   ]
  },
  {
   "cell_type": "code",
   "execution_count": null,
   "metadata": {},
   "outputs": [],
   "source": []
  }
 ],
 "metadata": {
  "kernelspec": {
   "display_name": "Python 3",
   "language": "python",
   "name": "python3"
  },
  "language_info": {
   "codemirror_mode": {
    "name": "ipython",
    "version": 3
   },
   "file_extension": ".py",
   "mimetype": "text/x-python",
   "name": "python",
   "nbconvert_exporter": "python",
   "pygments_lexer": "ipython3",
   "version": "3.6.0"
  }
 },
 "nbformat": 4,
 "nbformat_minor": 2
}
